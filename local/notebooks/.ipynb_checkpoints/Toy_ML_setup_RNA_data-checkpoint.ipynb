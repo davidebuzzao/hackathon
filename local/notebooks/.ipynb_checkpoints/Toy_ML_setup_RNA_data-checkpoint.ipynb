{
 "cells": [
  {
   "cell_type": "markdown",
   "metadata": {},
   "source": [
    "### RNA-SEQ Dataset"
   ]
  },
  {
   "cell_type": "markdown",
   "metadata": {},
   "source": [
    "- Generating a dataset endowed with expression profiles (DESeq Analysis between fat and slim organs'condition) and GTEx data\n",
    "- Standardization of expression profiles and simple training test splitting\n",
    "- Very simple Neural Network and Random Forest working examples with tf.keras and sklearn"
   ]
  },
  {
   "cell_type": "code",
   "execution_count": null,
   "metadata": {},
   "outputs": [],
   "source": [
    "import pandas as pd\n",
    "import numpy as np"
   ]
  },
  {
   "cell_type": "code",
   "execution_count": null,
   "metadata": {},
   "outputs": [],
   "source": [
    "## Set the correct working directory\n",
    "%cd ~/hackathon/data"
   ]
  },
  {
   "cell_type": "code",
   "execution_count": null,
   "metadata": {},
   "outputs": [],
   "source": [
    "id_list_pancreas = [] \n",
    "for val in open('pancreas/subjID.pancreas.id').readlines():\n",
    "    id_list_pancreas.append(val.rstrip())\n",
    "df_raw = pd.read_pickle('rna_seq_dataset.pkl')"
   ]
  },
  {
   "cell_type": "code",
   "execution_count": null,
   "metadata": {},
   "outputs": [],
   "source": [
    "drop_that_cols = ['Fat.Percentage_liver','Fat.Percentage_pancreas','liver_clean_specimens',\n",
    " 'liver_hyalinization','liver_hyperplasia','liver_infarction','liver_ischemic_changes',\n",
    " 'liver_no_abnormalities','liver_pigment','liver_scarring','liver_sclerotic','pancreas_calcification',\n",
    " 'pancreas_congestion','pancreas_cyst','pancreas_desquamation','pancreas_diabetic','pancreas_hemorrhage',\n",
    " 'pancreas_inflammation','pancreas_metaplasia','pancreas_necrosis','pancreas_no_abnormalities',\n",
    " 'pancreas_nodularity','pancreas_scarring','pancreas_sclerotic']"
   ]
  },
  {
   "cell_type": "code",
   "execution_count": null,
   "metadata": {},
   "outputs": [],
   "source": [
    "## Pancreas\n",
    "df_clean_pancreas = df_raw.ix[id_list_pancreas]\n",
    "target_pancreas = df_clean_pancreas[['Fat.Percentage_pancreas']]/100\n",
    "df_clean_pancreas = df_clean_pancreas.drop(drop_that_cols,axis=1)\n",
    "\n",
    "df_tpm_pancreas = pd.read_csv('pancreas/tpm_matrix/tpm_matrix.pancreas.RNA.traspose.txt',sep=' ')"
   ]
  },
  {
   "cell_type": "code",
   "execution_count": null,
   "metadata": {},
   "outputs": [],
   "source": [
    "df_tpm_pancreas = df_tpm_pancreas.set_index(df_clean_pancreas.index)\n",
    "df_tpm_pancreas = df_tpm_pancreas.drop(['Name'],axis=1)"
   ]
  },
  {
   "cell_type": "code",
   "execution_count": null,
   "metadata": {},
   "outputs": [],
   "source": [
    "## Liver\n",
    "id_list_liver = [] \n",
    "for val in open('liver/subjID.liver.id').readlines():\n",
    "    id_list_liver.append(val.rstrip())"
   ]
  },
  {
   "cell_type": "code",
   "execution_count": null,
   "metadata": {
    "scrolled": true
   },
   "outputs": [],
   "source": [
    "df_clean_liver = df_raw.ix[id_list_liver]\n",
    "target_liver = df_clean_liver[['Fat.Percentage_liver']]/100\n",
    "df_clean_liver = df_clean_liver.drop(drop_that_cols,axis=1)"
   ]
  },
  {
   "cell_type": "code",
   "execution_count": null,
   "metadata": {},
   "outputs": [],
   "source": [
    "df_tpm_liver = pd.read_csv('liver/tpm_matrix/tpm_matrix.liver.RNA.traspose.txt',sep=' ')"
   ]
  },
  {
   "cell_type": "code",
   "execution_count": null,
   "metadata": {},
   "outputs": [],
   "source": [
    "df_tpm_liver = df_tpm_liver.set_index(df_clean_liver.index)\n",
    "df_tpm_liver = df_tpm_liver.drop(['Name'],axis=1)"
   ]
  },
  {
   "cell_type": "markdown",
   "metadata": {},
   "source": [
    "### Feature standardization"
   ]
  },
  {
   "cell_type": "code",
   "execution_count": null,
   "metadata": {},
   "outputs": [],
   "source": [
    "from sklearn.preprocessing import StandardScaler\n",
    "\n",
    "## Pancreas\n",
    "data = df_tpm_pancreas\n",
    "scaler = StandardScaler()\n",
    "scaler.fit(data)"
   ]
  },
  {
   "cell_type": "code",
   "execution_count": null,
   "metadata": {},
   "outputs": [],
   "source": [
    "pancreas_scaled = pd.DataFrame(scaler.transform(data))\n",
    "pancreas_scaled = pancreas_scaled.set_index(df_clean_pancreas.index)"
   ]
  },
  {
   "cell_type": "code",
   "execution_count": null,
   "metadata": {},
   "outputs": [],
   "source": [
    "## Liver\n",
    "data = df_tpm_liver\n",
    "scaler = StandardScaler()\n",
    "scaler.fit(data)"
   ]
  },
  {
   "cell_type": "code",
   "execution_count": null,
   "metadata": {},
   "outputs": [],
   "source": [
    "liver_scaled = pd.DataFrame(scaler.transform(data))\n",
    "liver_scaled = liver_scaled.set_index(df_clean_liver.index)"
   ]
  },
  {
   "cell_type": "markdown",
   "metadata": {},
   "source": [
    "### Models"
   ]
  },
  {
   "cell_type": "markdown",
   "metadata": {},
   "source": [
    "#### Fromat and split the data"
   ]
  },
  {
   "cell_type": "code",
   "execution_count": null,
   "metadata": {},
   "outputs": [],
   "source": [
    "liver = pd.concat([df_clean_liver,liver_scaled],ignore_index=True,axis=1)"
   ]
  },
  {
   "cell_type": "code",
   "execution_count": null,
   "metadata": {},
   "outputs": [],
   "source": [
    "pancreas = pd.concat([df_clean_pancreas,pancreas_scaled],ignore_index=True,axis=1)"
   ]
  },
  {
   "cell_type": "code",
   "execution_count": null,
   "metadata": {},
   "outputs": [],
   "source": [
    "def split(dataset, target, test_size):\n",
    "    from sklearn.model_selection import train_test_split\n",
    "    return train_test_split(dataset, target, test_size=test_size, random_state=42)"
   ]
  },
  {
   "cell_type": "markdown",
   "metadata": {},
   "source": [
    "#### Simple toy NN"
   ]
  },
  {
   "cell_type": "code",
   "execution_count": null,
   "metadata": {
    "scrolled": false
   },
   "outputs": [],
   "source": [
    "import keras\n",
    "from keras.layers import Input, Dense, Activation\n",
    "from keras import Model"
   ]
  },
  {
   "cell_type": "code",
   "execution_count": null,
   "metadata": {},
   "outputs": [],
   "source": [
    "def network(training_data):\n",
    "    input_layer = Input(shape=(training_data.shape[1],))\n",
    "    hidden = Dense(128,activation='relu')(input_layer)\n",
    "    hidden = Dense(16,activation='relu')(hidden)\n",
    "    output_layer = Dense(1)(hidden)\n",
    "    model = Model(input_layer,output_layer)\n",
    "\n",
    "    optimizier = keras.optimizers.Adam(learning_rate=0.0001,amsgrad=0.8)\n",
    "    model.compile(optimizer='Adam',loss='mean_squared_error',metrics=['mae'])\n",
    "    return model"
   ]
  },
  {
   "cell_type": "code",
   "execution_count": null,
   "metadata": {},
   "outputs": [],
   "source": [
    "## Example with Pancreas Dataset\n",
    "\n",
    "regressor = network(pancreas)\n",
    "X_train, X_test, y_train, y_test = split(pancreas, target_pancreas, 0.33)\n",
    "\n",
    "History = regressor.fit(X_train,y_train,validation_data=[X_test,y_test],batch_size=1,epochs=44) "
   ]
  },
  {
   "cell_type": "markdown",
   "metadata": {},
   "source": [
    "#### Simple toy Random Forest"
   ]
  },
  {
   "cell_type": "code",
   "execution_count": null,
   "metadata": {},
   "outputs": [],
   "source": [
    "from sklearn.ensemble import RandomForestRegressor\n",
    "\n",
    "regressor = RandomForestRegressor(n_estimators=10000, random_state=42)\n",
    "regressor.fit(X_train, y_train)"
   ]
  }
 ],
 "metadata": {
  "kernelspec": {
   "display_name": "Python 2",
   "language": "python",
   "name": "python2"
  },
  "language_info": {
   "codemirror_mode": {
    "name": "ipython",
    "version": 2
   },
   "file_extension": ".py",
   "mimetype": "text/x-python",
   "name": "python",
   "nbconvert_exporter": "python",
   "pygments_lexer": "ipython2",
   "version": "2.7.17"
  }
 },
 "nbformat": 4,
 "nbformat_minor": 2
}
