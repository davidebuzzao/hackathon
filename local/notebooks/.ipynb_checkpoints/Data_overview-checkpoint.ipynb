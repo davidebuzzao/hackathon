{
 "cells": [
  {
   "cell_type": "markdown",
   "metadata": {},
   "source": [
    "### FULL DATASET"
   ]
  },
  {
   "cell_type": "markdown",
   "metadata": {},
   "source": [
    "- Encoding of categorical features in binary format\n",
    "- Basic plotting of data features, focusing on disease occurrence"
   ]
  },
  {
   "cell_type": "code",
   "execution_count": null,
   "metadata": {},
   "outputs": [],
   "source": [
    "import pandas as pd\n",
    "import numpy as np\n",
    "import matplotlib.pyplot as plt"
   ]
  },
  {
   "cell_type": "code",
   "execution_count": null,
   "metadata": {},
   "outputs": [],
   "source": [
    "## Set the correct working directory\n",
    "%cd ~/hackathon/data"
   ]
  },
  {
   "cell_type": "code",
   "execution_count": null,
   "metadata": {},
   "outputs": [],
   "source": [
    "df = pd.read_csv('GTEx_pancreas_liver_images_liverfat_pancreasfat.csv')"
   ]
  },
  {
   "cell_type": "code",
   "execution_count": null,
   "metadata": {},
   "outputs": [],
   "source": [
    "df = df.drop(['Pathology.Notes_liver','Pathology.Notes_pancreas','Tissue.Sample.ID_liver','Tissue.Sample.ID_pancreas'],axis=1)"
   ]
  },
  {
   "cell_type": "code",
   "execution_count": null,
   "metadata": {},
   "outputs": [],
   "source": [
    "## Label encoding\n",
    "from sklearn import preprocessing\n",
    "for val in ['Sex','Age.Bracket']:\n",
    "    le = preprocessing.LabelEncoder()\n",
    "    le.fit(df[val])\n",
    "    df[val]=le.transform(df[val])"
   ]
  },
  {
   "cell_type": "code",
   "execution_count": null,
   "metadata": {},
   "outputs": [],
   "source": [
    "## One hot encoding\n",
    "# Get dummies of the given column\n",
    "one_hot = pd.get_dummies(df['Hardy.Scale'])\n",
    "# Drop the hold column conteining categorical values\n",
    "df = df.drop('Hardy.Scale',axis = 1)\n",
    "# Join the new one-hot encoded columns\n",
    "df = df.join(one_hot)  "
   ]
  },
  {
   "cell_type": "code",
   "execution_count": null,
   "metadata": {},
   "outputs": [],
   "source": [
    "def encode(column, basename=''):\n",
    "    \"\"\"input is a list of strings, single words separated by comma. Ouput is encoding of those strings\n",
    "    as lists of 0 and 1 for presence/absence of those words in alphabetical order\n",
    "    returns a list of lists of presence/absence\"\"\"\n",
    "    # figure out the mapping b/w vector positions and terms\n",
    "    mapper = dict()\n",
    "    term_set = list()\n",
    "    out_column = list()\n",
    "    for i in range(len(column)):\n",
    "        if isinstance(column[i], str):\n",
    "            terms = column[i].split(',')\n",
    "            for j in range(len(terms)):\n",
    "                terms[j] = terms[j].strip()\n",
    "                if terms[j] not in term_set:\n",
    "                    term_set.append(terms[j])\n",
    "            column[i] = terms\n",
    "    term_set = sorted(term_set)\n",
    "    for i in range(len(term_set)):\n",
    "        mapper[term_set[i]] = i\n",
    "\n",
    "    # encode the whole thing as vectors\n",
    "    for i in column:\n",
    "        if type(i) == list:\n",
    "            encoded_i = [0 for k in range(len(term_set))]\n",
    "            for j in i:\n",
    "                encoded_i[mapper[j]] = 1\n",
    "            out_column.append(encoded_i)\n",
    "        else:\n",
    "            encoded_i = [0 for i in range(len(term_set))]\n",
    "            out_column.append(encoded_i)\n",
    "    \n",
    "    # transform in pandas dataframe\n",
    "    basenames = list()\n",
    "    for i in term_set:\n",
    "        basenames.append(basename+i)\n",
    "    out_df = pd.DataFrame(out_column, columns = basenames)\n",
    "    return out_df"
   ]
  },
  {
   "cell_type": "code",
   "execution_count": null,
   "metadata": {},
   "outputs": [],
   "source": [
    "gtex_noseq = df\n",
    "#    print(list(gtex_noseq.columns))\n",
    "#    print(list(gtex_noseq['Pathology.Categories_liver']))\n",
    "liver_disease = encode(list(gtex_noseq['Pathology.Categories_liver']), basename='liver_')\n",
    "pancreas_disease = encode(list(gtex_noseq['Pathology.Categories_pancreas']), basename='pancreas_')\n",
    "\n",
    "#df = pd.concat([df,pancreas_disease,liver_disease,],axis=1)\n",
    "df = pd.concat([df,pancreas_disease,liver_disease,],axis=1)"
   ]
  },
  {
   "cell_type": "code",
   "execution_count": null,
   "metadata": {
    "scrolled": true
   },
   "outputs": [],
   "source": [
    "targets = df[['Fat.Percentage_liver','Fat.Percentage_pancreas']]\n",
    "df = df.drop(['Fat.Percentage_liver','Fat.Percentage_pancreas','Pathology.Categories_liver','Pathology.Categories_pancreas'],axis=1)\n",
    "df = df.join(targets)"
   ]
  },
  {
   "cell_type": "code",
   "execution_count": null,
   "metadata": {},
   "outputs": [],
   "source": [
    "sex = df['Sex'].value_counts(dropna=False).rename(index={0:'female',1:'male'})\n",
    "sex.plot(kind='pie',autopct='%.2f')\n",
    "plt.show()"
   ]
  },
  {
   "cell_type": "code",
   "execution_count": null,
   "metadata": {},
   "outputs": [],
   "source": [
    "def disease_sex_analysis(sex,dfr):\n",
    "    disease_sex = dict()\n",
    "    tot = dfr['Sex'].value_counts(dropna=False)[sex]\n",
    "    for name in dfr.columns[8:-2]:\n",
    "        X = list(dfr[name])\n",
    "        for val in list(dfr.index):\n",
    "            if dfr.loc[val,'Sex'] == sex:\n",
    "                if dfr.loc[val,name] == 1:\n",
    "                    disease_sex[name] = disease_sex.get(name,0)\n",
    "                    disease_sex[name] += 1\n",
    "\n",
    "    return pd.DataFrame(disease_sex,index=[0])/tot * 100"
   ]
  },
  {
   "cell_type": "code",
   "execution_count": null,
   "metadata": {},
   "outputs": [],
   "source": [
    "female_hill = disease_sex_analysis(0,df)\n",
    "male_hill = disease_sex_analysis(1,df)"
   ]
  },
  {
   "cell_type": "code",
   "execution_count": null,
   "metadata": {},
   "outputs": [],
   "source": [
    "female_hill.T.plot(kind='bar',figsize=(16,9),title='Female',edgecolor='white', width=0.80, legend=False)\n",
    "male_hill.T.plot(kind='bar',figsize=(16,9),title='Male',edgecolor='white', width=0.80, legend=False)\n",
    "plt.show()"
   ]
  },
  {
   "cell_type": "code",
   "execution_count": null,
   "metadata": {
    "scrolled": true
   },
   "outputs": [],
   "source": [
    "def disease_fat_analysis(cols,dfr):\n",
    "    y = np.zeros(len(df.index))\n",
    "    for i in list(df.index):\n",
    "        if dfr.loc[i,cols] >= 33 :\n",
    "            y[i] += 1\n",
    "\n",
    "    disease_fat = dict()\n",
    "    for name in dfr.columns[8:-2]:\n",
    "        X = list(df[name])\n",
    "        hill = sum(X)\n",
    "        fat = 0\n",
    "        for val in list(df.index):\n",
    "            if dfr.loc[val,name] == 1 and y[val] == 1:\n",
    "                fat += 1.0\n",
    "        res = fat/hill\n",
    "        disease_fat[name] = disease_fat.get(name,[hill,fat,res])\n",
    "    disease_fat_df = pd.DataFrame(disease_fat)\n",
    "    disease_fat_df = disease_fat_df.rename(index={0:'hill',1:'fat_hill',2:'percentage'})\n",
    "    return disease_fat_df"
   ]
  },
  {
   "cell_type": "code",
   "execution_count": null,
   "metadata": {},
   "outputs": [],
   "source": [
    "liver_disease = disease_fat_analysis('Fat.Percentage_liver',df)\n",
    "pancreas_disease = disease_fat_analysis('Fat.Percentage_pancreas',df)"
   ]
  },
  {
   "cell_type": "code",
   "execution_count": null,
   "metadata": {},
   "outputs": [],
   "source": [
    "## Plot the disease occurrency and the percentage of patient with fat organs\n",
    "liver_disease.T.plot(kind='bar',figsize=(16,9),title='Liver Fat',edgecolor='white', width=0.80)\n",
    "pancreas_disease.T.plot(kind='bar',figsize=(16,9),title='Pancreas Fat',edgecolor='white', width=0.80)\n",
    "plt.show()"
   ]
  },
  {
   "cell_type": "code",
   "execution_count": null,
   "metadata": {},
   "outputs": [],
   "source": [
    "liver_disease"
   ]
  },
  {
   "cell_type": "code",
   "execution_count": null,
   "metadata": {},
   "outputs": [],
   "source": [
    "## Plot the occurrency of the disease in the dataset\n",
    "disease_occurency = liver_disease.loc['hill',:]/577\n",
    "disease_occurency.plot(kind='bar',figsize=(16,9),edgecolor='white', width=0.80)\n",
    "plt.show()"
   ]
  },
  {
   "cell_type": "code",
   "execution_count": null,
   "metadata": {},
   "outputs": [],
   "source": [
    "type(disease_occurency)"
   ]
  },
  {
   "cell_type": "code",
   "execution_count": null,
   "metadata": {
    "scrolled": true
   },
   "outputs": [],
   "source": [
    "## Remove the disease occurring less tha 1% of the time\n",
    "non_significant_disease = []\n",
    "for val in range(len(disease_occurency)):\n",
    "    if disease_occurency[val] <= 0.01:\n",
    "        non_significant_disease.append(str(disease_occurency.index[val]))"
   ]
  },
  {
   "cell_type": "code",
   "execution_count": null,
   "metadata": {},
   "outputs": [],
   "source": [
    "df = df.drop(non_significant_disease,axis=1)"
   ]
  },
  {
   "cell_type": "code",
   "execution_count": null,
   "metadata": {},
   "outputs": [],
   "source": [
    "df = df.set_index('Subject.ID')"
   ]
  },
  {
   "cell_type": "code",
   "execution_count": null,
   "metadata": {},
   "outputs": [],
   "source": [
    "## Save the dataframe\n",
    "df.to_pickle('full_dataset.pkl') "
   ]
  },
  {
   "cell_type": "markdown",
   "metadata": {},
   "source": [
    "### RNA-SEQ DATASET"
   ]
  },
  {
   "cell_type": "code",
   "execution_count": null,
   "metadata": {},
   "outputs": [],
   "source": [
    "ids = open('subjID.txt').readlines()[1:]"
   ]
  },
  {
   "cell_type": "code",
   "execution_count": null,
   "metadata": {},
   "outputs": [],
   "source": [
    "for val in range(len(ids)):\n",
    "    ids[val] = ids[val].rstrip()"
   ]
  },
  {
   "cell_type": "code",
   "execution_count": null,
   "metadata": {},
   "outputs": [],
   "source": [
    "df_rna_seq = df_rna_seq.reset_index(drop=True)"
   ]
  },
  {
   "cell_type": "code",
   "execution_count": null,
   "metadata": {
    "scrolled": true
   },
   "outputs": [],
   "source": [
    "df_rna_seq = df.loc[df['Subject.ID'].isin(ids)]"
   ]
  },
  {
   "cell_type": "code",
   "execution_count": null,
   "metadata": {},
   "outputs": [],
   "source": [
    "sex = df_rna_seq['Sex'].value_counts(dropna=False).rename(index={0:'female',1:'male'})\n",
    "sex.plot(kind='pie',autopct='%.2f')\n",
    "plt.show()"
   ]
  },
  {
   "cell_type": "code",
   "execution_count": null,
   "metadata": {},
   "outputs": [],
   "source": [
    "## Sex hillness\n",
    "female_hill_rna = disease_sex_analysis(0,df_rna_seq)\n",
    "male_hill_rna = disease_sex_analysis(1,df_rna_seq)"
   ]
  },
  {
   "cell_type": "code",
   "execution_count": null,
   "metadata": {},
   "outputs": [],
   "source": [
    "female_hill.T.plot(kind='bar',figsize=(16,9),title='Female',edgecolor='white', width=0.80, legend=False)\n",
    "male_hill.T.plot(kind='bar',figsize=(16,9),title='Male',edgecolor='white', width=0.80, legend=False)\n",
    "plt.show()"
   ]
  },
  {
   "cell_type": "code",
   "execution_count": null,
   "metadata": {},
   "outputs": [],
   "source": [
    "liver_disease_seq = disease_fat_analysis('Fat.Percentage_liver',df)\n",
    "pancreas_disease_seq = disease_fat_analysis('Fat.Percentage_pancreas',df)"
   ]
  },
  {
   "cell_type": "code",
   "execution_count": null,
   "metadata": {},
   "outputs": [],
   "source": [
    "## Plot the disease occurrency and the percentage of patient with fat organs\n",
    "liver_disease_seq.T.plot(kind='bar',figsize=(16,9),title='Liver Fat',edgecolor='white', width=0.80)\n",
    "pancreas_disease_seq.T.plot(kind='bar',figsize=(16,9),title='Pancreas Fat',edgecolor='white', width=0.80)\n",
    "plt.show()"
   ]
  },
  {
   "cell_type": "code",
   "execution_count": null,
   "metadata": {},
   "outputs": [],
   "source": [
    "df_rna_seq = df_rna_seq.set_index('Subject.ID')"
   ]
  },
  {
   "cell_type": "code",
   "execution_count": null,
   "metadata": {},
   "outputs": [],
   "source": [
    "## Save the dataframe\n",
    "df_rna_seq.to_pickle('rna_seq_dataset.pkl')"
   ]
  }
 ],
 "metadata": {
  "kernelspec": {
   "display_name": "Python 2",
   "language": "python",
   "name": "python2"
  },
  "language_info": {
   "codemirror_mode": {
    "name": "ipython",
    "version": 2
   },
   "file_extension": ".py",
   "mimetype": "text/x-python",
   "name": "python",
   "nbconvert_exporter": "python",
   "pygments_lexer": "ipython2",
   "version": "2.7.17"
  }
 },
 "nbformat": 4,
 "nbformat_minor": 2
}
